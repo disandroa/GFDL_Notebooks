{
 "cells": [
  {
   "cell_type": "markdown",
   "metadata": {},
   "source": [
    "# Observational Data Transport Mean Profile\n",
    "*Akira Di Sandro, 7/16/20*\n",
    "<br> In this notebook, I will be making a mean profile of transport for the observational data."
   ]
  },
  {
   "cell_type": "markdown",
   "metadata": {},
   "source": [
    "## 1. Import Packages as usual"
   ]
  },
  {
   "cell_type": "code",
   "execution_count": 1,
   "metadata": {},
   "outputs": [],
   "source": [
    "import warnings\n",
    "warnings.filterwarnings(\"ignore\")"
   ]
  },
  {
   "cell_type": "code",
   "execution_count": 2,
   "metadata": {},
   "outputs": [],
   "source": [
    "import xarray as xr\n",
    "xr.set_options(display_style='html')\n",
    "import intake\n",
    "%matplotlib inline\n",
    "import cartopy.crs as ccrs\n",
    "import matplotlib.pyplot as plt\n",
    "import numpy as np\n",
    "import pandas as pd\n",
    "import datetime as dt"
   ]
  },
  {
   "cell_type": "markdown",
   "metadata": {},
   "source": [
    "## 2. Open Observational Data"
   ]
  },
  {
   "cell_type": "code",
   "execution_count": 3,
   "metadata": {},
   "outputs": [],
   "source": [
    "from scipy.io import loadmat\n",
    "obs_data = loadmat('../Data/SolomonStrait_westernXsection_linear2bot_sat4surf.mat')"
   ]
  },
  {
   "cell_type": "code",
   "execution_count": 4,
   "metadata": {},
   "outputs": [],
   "source": [
    "#along strait velocity saved in 255x99x590 matrix (depth x points along cross section x timestamps)\n",
    "asv = obs_data['ASV']  #asv is in m/s\n",
    "\n",
    "#lon: lon points along cross section, lat (same as lon), xdist: distance from start of cross section\n",
    "lon = obs_data['bathy'][0][0][2][0]\n",
    "lat = obs_data['bathy'][0][0][3][0]\n",
    "xdist = obs_data['bathy'][0][0][4][0] #xdist is in km\n",
    "\n",
    "#raw_time: datenums associated to each day mooring data was taken\n",
    "raw_time = obs_data['time'][0]\n",
    "\n",
    "#depth: array of all the depths possible\n",
    "depth = obs_data['z'][:,0]  # depth is in m"
   ]
  },
  {
   "cell_type": "markdown",
   "metadata": {},
   "source": [
    "## 3. Open Cluster "
   ]
  },
  {
   "cell_type": "code",
   "execution_count": 30,
   "metadata": {},
   "outputs": [],
   "source": [
    "from dask.distributed import Client\n",
    "from dask_gateway import Gateway\n",
    "\n",
    "\n",
    "gateway = Gateway()  # connect to Gateway\n",
    "\n",
    "cluster = gateway.new_cluster()  # create cluster\n",
    "cluster.scale(10)  # scale cluster\n",
    "\n",
    "client = Client(cluster)  # connect Client to Cluster"
   ]
  },
  {
   "cell_type": "code",
   "execution_count": 31,
   "metadata": {},
   "outputs": [
    {
     "data": {
      "text/html": [
       "<table style=\"border: 2px solid white;\">\n",
       "<tr>\n",
       "<td style=\"vertical-align: top; border: 0px solid white\">\n",
       "<h3 style=\"text-align: left;\">Client</h3>\n",
       "<ul style=\"text-align: left; list-style: none; margin: 0; padding: 0;\">\n",
       "  <li><b>Scheduler: </b>gateway://traefik-gcp-uscentral1b-prod-dask-gateway.prod:80/prod.3bd05a37b19b415a983a4d077c6f8a24</li>\n",
       "  <li><b>Dashboard: </b><a href='https://us-central1-b.gcp.pangeo.io/services/dask-gateway/clusters/prod.3bd05a37b19b415a983a4d077c6f8a24/status' target='_blank'>https://us-central1-b.gcp.pangeo.io/services/dask-gateway/clusters/prod.3bd05a37b19b415a983a4d077c6f8a24/status</a></li>\n",
       "</ul>\n",
       "</td>\n",
       "<td style=\"vertical-align: top; border: 0px solid white\">\n",
       "<h3 style=\"text-align: left;\">Cluster</h3>\n",
       "<ul style=\"text-align: left; list-style:none; margin: 0; padding: 0;\">\n",
       "  <li><b>Workers: </b>0</li>\n",
       "  <li><b>Cores: </b>0</li>\n",
       "  <li><b>Memory: </b>0 B</li>\n",
       "</ul>\n",
       "</td>\n",
       "</tr>\n",
       "</table>"
      ],
      "text/plain": [
       "<Client: 'tls://10.36.252.7:8786' processes=0 threads=0, memory=0 B>"
      ]
     },
     "execution_count": 31,
     "metadata": {},
     "output_type": "execute_result"
    }
   ],
   "source": [
    "client"
   ]
  },
  {
   "cell_type": "markdown",
   "metadata": {},
   "source": [
    "## 4. Calculating Transport Mean Profile Along Depth for One Time Stamp"
   ]
  },
  {
   "cell_type": "code",
   "execution_count": 5,
   "metadata": {},
   "outputs": [
    {
     "data": {
      "text/plain": [
       "(225, 99, 590)"
      ]
     },
     "execution_count": 5,
     "metadata": {},
     "output_type": "execute_result"
    }
   ],
   "source": [
    "asv.shape"
   ]
  },
  {
   "cell_type": "markdown",
   "metadata": {},
   "source": [
    "I want to average the values of velocities across all time values stored in 'asv'. This 2d matrix, 'asv_avgtime' indexed by depth points (225 total) and points along cross-section will be in units of m/s still because it is just veolcity values."
   ]
  },
  {
   "cell_type": "code",
   "execution_count": 6,
   "metadata": {},
   "outputs": [
    {
     "data": {
      "text/plain": [
       "(225, 99)"
      ]
     },
     "execution_count": 6,
     "metadata": {},
     "output_type": "execute_result"
    }
   ],
   "source": [
    "asv_avgtime = np.mean(asv, axis=2)\n",
    "asv_avgtime[np.isnan(asv_avgtime)]=0\n",
    "asv_avgtime.shape"
   ]
  },
  {
   "cell_type": "markdown",
   "metadata": {},
   "source": [
    "To get the values of transport per unit depth for the observational data, I will have to use trapz to integrate along the cross section using xdist and the 99 values of velocity across all 225 depth levels. This will be stored in a 1d array of 225 values where each value is indexed by the depth level and will store the value of transport per unit depth (Sv/km). This is because 'xdist' is already in km."
   ]
  },
  {
   "cell_type": "code",
   "execution_count": 7,
   "metadata": {},
   "outputs": [],
   "source": [
    "obs_tpd = []\n",
    "for i in range(asv_avgtime.shape[0]):\n",
    "        vels_depth = asv_avgtime[i]          #vels_depth stores the i^th row of asv_avgtime (so the velocity values of that depth value)\n",
    "        row_int = np.trapz(vels_depth, xdist)\n",
    "        obs_tpd = np.append(obs_tpd, [row_int])"
   ]
  },
  {
   "cell_type": "code",
   "execution_count": 8,
   "metadata": {},
   "outputs": [
    {
     "data": {
      "text/plain": [
       "(225,)"
      ]
     },
     "execution_count": 8,
     "metadata": {},
     "output_type": "execute_result"
    }
   ],
   "source": [
    "obs_tpd.shape"
   ]
  },
  {
   "cell_type": "code",
   "execution_count": 9,
   "metadata": {},
   "outputs": [
    {
     "data": {
      "text/plain": [
       "array([  10,   30,   50,   70,   90,  110,  130,  150,  170,  190,  210,\n",
       "        230,  250,  270,  290,  310,  330,  350,  370,  390,  410,  430,\n",
       "        450,  470,  490,  510,  530,  550,  570,  590,  610,  630,  650,\n",
       "        670,  690,  710,  730,  750,  770,  790,  810,  830,  850,  870,\n",
       "        890,  910,  930,  950,  970,  990, 1010, 1030, 1050, 1070, 1090,\n",
       "       1110, 1130, 1150, 1170, 1190, 1210, 1230, 1250, 1270, 1290, 1310,\n",
       "       1330, 1350, 1370, 1390, 1410, 1430, 1450, 1470, 1490, 1510, 1530,\n",
       "       1550, 1570, 1590, 1610, 1630, 1650, 1670, 1690, 1710, 1730, 1750,\n",
       "       1770, 1790, 1810, 1830, 1850, 1870, 1890, 1910, 1930, 1950, 1970,\n",
       "       1990, 2010, 2030, 2050, 2070, 2090, 2110, 2130, 2150, 2170, 2190,\n",
       "       2210, 2230, 2250, 2270, 2290, 2310, 2330, 2350, 2370, 2390, 2410,\n",
       "       2430, 2450, 2470, 2490, 2510, 2530, 2550, 2570, 2590, 2610, 2630,\n",
       "       2650, 2670, 2690, 2710, 2730, 2750, 2770, 2790, 2810, 2830, 2850,\n",
       "       2870, 2890, 2910, 2930, 2950, 2970, 2990, 3010, 3030, 3050, 3070,\n",
       "       3090, 3110, 3130, 3150, 3170, 3190, 3210, 3230, 3250, 3270, 3290,\n",
       "       3310, 3330, 3350, 3370, 3390, 3410, 3430, 3450, 3470, 3490, 3510,\n",
       "       3530, 3550, 3570, 3590, 3610, 3630, 3650, 3670, 3690, 3710, 3730,\n",
       "       3750, 3770, 3790, 3810, 3830, 3850, 3870, 3890, 3910, 3930, 3950,\n",
       "       3970, 3990, 4010, 4030, 4050, 4070, 4090, 4110, 4130, 4150, 4170,\n",
       "       4190, 4210, 4230, 4250, 4270, 4290, 4310, 4330, 4350, 4370, 4390,\n",
       "       4410, 4430, 4450, 4470, 4490], dtype=uint16)"
      ]
     },
     "execution_count": 9,
     "metadata": {},
     "output_type": "execute_result"
    }
   ],
   "source": [
    "depth"
   ]
  },
  {
   "cell_type": "markdown",
   "metadata": {},
   "source": [
    "## 5. Plotting Observational Transport Mean Profile"
   ]
  },
  {
   "cell_type": "code",
   "execution_count": 14,
   "metadata": {},
   "outputs": [
    {
     "data": {
      "image/png": "[encoded data removed]",
      "text/plain": [
       "<Figure size 432x648 with 1 Axes>"
      ]
     },
     "metadata": {
      "needs_background": "light"
     },
     "output_type": "display_data"
    }
   ],
   "source": [
    "fig, ax = plt.subplots(figsize=(6,9))\n",
    "ax.set_ylabel('Depth (m)')\n",
    "ax.set_xlabel('Transport per unit depth (Sv/km)')\n",
    "ax.plot(obs_tpd, depth)           # this line will have transport vs depth\n",
    "ax.grid(True)\n",
    "ax.set_ylim(4000, 0)\n",
    "ax.set_xlim(-30, 45)\n",
    "plt.title('Observational Data Transport per unit depth', fontsize=20)\n",
    "model_mp = plt.show()"
   ]
  },
  {
   "cell_type": "markdown",
   "metadata": {},
   "source": [
    "## Closing Clusters after use"
   ]
  },
  {
   "cell_type": "code",
   "execution_count": 16,
   "metadata": {},
   "outputs": [
    {
     "ename": "NameError",
     "evalue": "name 'client' is not defined",
     "output_type": "error",
     "traceback": [
      "\u001b[0;31m---------------------------------------------------------------------------\u001b[0m",
      "\u001b[0;31mNameError\u001b[0m                                 Traceback (most recent call last)",
      "\u001b[0;32m<ipython-input-16-27dde07d251f>\u001b[0m in \u001b[0;36m<module>\u001b[0;34m\u001b[0m\n\u001b[0;32m----> 1\u001b[0;31m \u001b[0mclient\u001b[0m\u001b[0;34m.\u001b[0m\u001b[0mclose\u001b[0m\u001b[0;34m(\u001b[0m\u001b[0;34m)\u001b[0m\u001b[0;34m\u001b[0m\u001b[0;34m\u001b[0m\u001b[0m\n\u001b[0m\u001b[1;32m      2\u001b[0m \u001b[0mcluster\u001b[0m\u001b[0;34m.\u001b[0m\u001b[0mclose\u001b[0m\u001b[0;34m(\u001b[0m\u001b[0;34m)\u001b[0m\u001b[0;34m\u001b[0m\u001b[0;34m\u001b[0m\u001b[0m\n",
      "\u001b[0;31mNameError\u001b[0m: name 'client' is not defined"
     ]
    }
   ],
   "source": [
    "client.close()\n",
    "cluster.close()"
   ]
  },
  {
   "cell_type": "code",
   "execution_count": null,
   "metadata": {},
   "outputs": [],
   "source": []
  }
 ],
 "metadata": {
  "kernelspec": {
   "display_name": "Python 3",
   "language": "python",
   "name": "python3"
  },
  "language_info": {
   "codemirror_mode": {
    "name": "ipython",
    "version": 3
   },
   "file_extension": ".py",
   "mimetype": "text/x-python",
   "name": "python",
   "nbconvert_exporter": "python",
   "pygments_lexer": "ipython3",
   "version": "3.7.6"
  }
 },
 "nbformat": 4,
 "nbformat_minor": 4
}
