{
 "cells": [
  {
   "cell_type": "markdown",
   "metadata": {},
   "source": [
    "# Using ASV data for Trapezoidal Integration \n",
    "*Akira Di Sandro, 6/26/20*\n",
    "<br>\n",
    "In this notebook, I will be trying to see if the trapezoidal integration method done on the raw data resembles the transport data Marion and her research team got. (It should match perfectly since this is the way they calculated transport, but I want to test if I can do it myself)"
   ]
  },
  {
   "cell_type": "markdown",
   "metadata": {},
   "source": [
    "## 1. Load in Data"
   ]
  },
  {
   "cell_type": "code",
   "execution_count": 1,
   "metadata": {},
   "outputs": [],
   "source": [
    "import numpy as np\n",
    "import pandas as pd\n",
    "import datetime as dt\n",
    "import matplotlib.pyplot as plt\n",
    "import random"
   ]
  },
  {
   "cell_type": "code",
   "execution_count": 2,
   "metadata": {},
   "outputs": [],
   "source": [
    "from scipy.io import loadmat\n",
    "x = loadmat('SolomonStrait_westernXsection_linear2bot_sat4surf.mat')"
   ]
  },
  {
   "cell_type": "markdown",
   "metadata": {},
   "source": [
    "## 2. Save Data into variables"
   ]
  },
  {
   "cell_type": "code",
   "execution_count": 3,
   "metadata": {},
   "outputs": [],
   "source": [
    "#along strait velocity saved in 255x99x590 matrix (depth x points along cross section x timestamps)\n",
    "asv = x['ASV']  #asv is in m/s\n",
    "\n",
    "#lon: lon points along cross section, lat (same as lon), xdist: distance from start of cross section\n",
    "lon = x['bathy'][0][0][2][0]\n",
    "lat = x['bathy'][0][0][3][0]\n",
    "xdist = x['bathy'][0][0][4][0] #xdist is in km\n",
    "points = np.arange(99)\n",
    "\n",
    "#raw_time: datenums associated to each day mooring data was taken\n",
    "raw_time = x['time'][0]\n",
    "\n",
    "#depth: array of all the depths possible\n",
    "depth = x['z'][:,0]  # depth is in m"
   ]
  },
  {
   "cell_type": "markdown",
   "metadata": {},
   "source": [
    "To put everything in terms of meters, we have to do the following conversions. ASV is already in m/s and depth is already in m so all we need to do is change the units of xdist from km to m."
   ]
  },
  {
   "cell_type": "code",
   "execution_count": 4,
   "metadata": {},
   "outputs": [],
   "source": [
    "xdist = xdist * (10**3)"
   ]
  },
  {
   "cell_type": "markdown",
   "metadata": {},
   "source": [
    "## 3. Calculate Transport for one time stamp"
   ]
  },
  {
   "cell_type": "markdown",
   "metadata": {},
   "source": [
    "### a. Just one time stamp first\n",
    "I'm starting with time = 0."
   ]
  },
  {
   "cell_type": "code",
   "execution_count": 5,
   "metadata": {},
   "outputs": [
    {
     "data": {
      "text/plain": [
       "(225, 99)"
      ]
     },
     "execution_count": 5,
     "metadata": {},
     "output_type": "execute_result"
    }
   ],
   "source": [
    "time0 = asv[:,:,10]\n",
    "time0.shape"
   ]
  },
  {
   "cell_type": "code",
   "execution_count": 6,
   "metadata": {},
   "outputs": [
    {
     "data": {
      "text/plain": [
       "array([        nan,  0.        ,  0.13979748,  0.13979748,  0.13979748,\n",
       "        0.13979748,  0.13979748,  0.13979748,  0.13979748,  0.13979748,\n",
       "        0.13979748,  0.13979748,  0.13979748,  0.13979748,  0.13979748,\n",
       "        0.14363783,  0.14747814,  0.15131841,  0.15515864,  0.15899883,\n",
       "        0.16283897,  0.16667908,  0.17051914,  0.17435916,  0.17819914,\n",
       "        0.18203908,  0.18587897,  0.18971882,  0.19355863,  0.1973984 ,\n",
       "        0.20123813,  0.07014786,  0.06707241,  0.06399695,  0.06092149,\n",
       "        0.05784602,  0.05477056,  0.0516951 ,  0.04861963,  0.04554416,\n",
       "        0.04246869,  0.03939322,  0.03631775,  0.03324228,  0.0301668 ,\n",
       "        0.02709133,  0.02401585,  0.02094037,  0.01786489,  0.01478941,\n",
       "        0.01171393,  0.00863844,  0.00556296,  0.00248747, -0.00058802,\n",
       "       -0.00366351, -0.006739  , -0.0098145 , -0.01288999, -0.01596549,\n",
       "       -0.01904099, -0.02211648, -0.02519199, -0.02826749, -0.03134299,\n",
       "       -0.0344185 , -0.037494  , -0.04056951, -0.04364502, -0.04672053,\n",
       "       -0.04979604, -0.05287155, -0.05594707, -0.05902258, -0.0620981 ,\n",
       "       -0.06517362, -0.06824914, -0.07132466, -0.07440019, -0.07747571,\n",
       "       -0.08055124, -0.08362677, -0.08670229, -0.08977783, -0.09285336,\n",
       "       -0.08571081, -0.07856826, -0.07142571, -0.06428315, -0.05714059,\n",
       "       -0.04999803, -0.04285547, -0.0357129 , -0.02857032, -0.02142775,\n",
       "       -0.01428517, -0.00714259,  0.        ,         nan])"
      ]
     },
     "execution_count": 6,
     "metadata": {},
     "output_type": "execute_result"
    }
   ],
   "source": [
    "t0row1 = time0[0]\n",
    "t0row1"
   ]
  },
  {
   "cell_type": "code",
   "execution_count": 7,
   "metadata": {},
   "outputs": [],
   "source": [
    "nans = np.isnan(t0row1)\n",
    "t0row1[nans] = 0"
   ]
  },
  {
   "cell_type": "code",
   "execution_count": 8,
   "metadata": {},
   "outputs": [
    {
     "data": {
      "text/plain": [
       "6944.920063968619"
      ]
     },
     "execution_count": 8,
     "metadata": {},
     "output_type": "execute_result"
    }
   ],
   "source": [
    "# horizontal integration of ASV\n",
    "horz_int = np.trapz(t0row1, xdist)\n",
    "horz_int"
   ]
  },
  {
   "cell_type": "markdown",
   "metadata": {},
   "source": [
    "### b. integrate across all points in each depth"
   ]
  },
  {
   "cell_type": "code",
   "execution_count": 9,
   "metadata": {
    "scrolled": true
   },
   "outputs": [
    {
     "data": {
      "text/plain": [
       "[]"
      ]
     },
     "execution_count": 9,
     "metadata": {},
     "output_type": "execute_result"
    }
   ],
   "source": [
    "horz_int = []\n",
    "horz_int"
   ]
  },
  {
   "cell_type": "markdown",
   "metadata": {},
   "source": [
    "The units for the values in horz_int are in m^2/s."
   ]
  },
  {
   "cell_type": "code",
   "execution_count": 10,
   "metadata": {},
   "outputs": [],
   "source": [
    "for row in range(time0.shape[0]):\n",
    "    t0row = time0[row]\n",
    "    nans = np.isnan(t0row)\n",
    "    t0row[nans] = 0\n",
    "    row_int = np.trapz(t0row, xdist)\n",
    "    horz_int = np.append(horz_int, [row_int])"
   ]
  },
  {
   "cell_type": "code",
   "execution_count": 11,
   "metadata": {},
   "outputs": [
    {
     "data": {
      "text/plain": [
       "True"
      ]
     },
     "execution_count": 11,
     "metadata": {},
     "output_type": "execute_result"
    }
   ],
   "source": [
    "horz_int.shape == depth.shape"
   ]
  },
  {
   "cell_type": "markdown",
   "metadata": {},
   "source": [
    "### c. integrate across all depths"
   ]
  },
  {
   "cell_type": "code",
   "execution_count": 12,
   "metadata": {},
   "outputs": [],
   "source": [
    "transport = 0"
   ]
  },
  {
   "cell_type": "markdown",
   "metadata": {},
   "source": [
    "The units for transport here is m^3/s."
   ]
  },
  {
   "cell_type": "code",
   "execution_count": 13,
   "metadata": {},
   "outputs": [
    {
     "data": {
      "text/plain": [
       "11393959.807636239"
      ]
     },
     "execution_count": 13,
     "metadata": {},
     "output_type": "execute_result"
    }
   ],
   "source": [
    "transport = np.trapz(horz_int, depth)\n",
    "transport"
   ]
  },
  {
   "cell_type": "markdown",
   "metadata": {},
   "source": [
    "## 4. Make function that calculates Transport for the time-stamp you give it"
   ]
  },
  {
   "cell_type": "markdown",
   "metadata": {},
   "source": [
    "I'm going to use all the code above to make a function that spits out Transport. For this calculation to work, everything has to be in the proper units (m). This function takes in four variables:\n",
    "1. asv : along strait velocity, in the for of a 3D array (depth x points on cross section x time)\n",
    "2. tstep : 1D array of time stamps\n",
    "3. depth : 1D array of the different depths\n",
    "4. dist : 1D array of the distance between point to point along the cross section\n",
    "<br> \n",
    "This function returns the value of transport in Sv."
   ]
  },
  {
   "cell_type": "code",
   "execution_count": 1,
   "metadata": {},
   "outputs": [],
   "source": [
    "def calc_trans(asv, tstep, depth, dist):\n",
    "    time = asv[:,:,tstep]\n",
    "    horz_int = []\n",
    "    for row in range(time.shape[0]):\n",
    "        t0row = time[row]\n",
    "        nans = np.isnan(t0row)\n",
    "        t0row[nans] = 0\n",
    "        row_int = np.trapz(t0row, xdist)\n",
    "        horz_int = np.append(horz_int, [row_int])\n",
    "    transport = np.trapz(horz_int, depth)\n",
    "    transport = transport*(10**-6)\n",
    "    return(transport)"
   ]
  },
  {
   "cell_type": "code",
   "execution_count": 24,
   "metadata": {},
   "outputs": [
    {
     "data": {
      "text/plain": [
       "11.393959807636238"
      ]
     },
     "execution_count": 24,
     "metadata": {},
     "output_type": "execute_result"
    }
   ],
   "source": [
    "calc_trans(asv, 10, depth, xdist)"
   ]
  },
  {
   "cell_type": "code",
   "execution_count": null,
   "metadata": {},
   "outputs": [],
   "source": []
  }
 ],
 "metadata": {
  "kernelspec": {
   "display_name": "Python 3",
   "language": "python",
   "name": "python3"
  },
  "language_info": {
   "codemirror_mode": {
    "name": "ipython",
    "version": 3
   },
   "file_extension": ".py",
   "mimetype": "text/x-python",
   "name": "python",
   "nbconvert_exporter": "python",
   "pygments_lexer": "ipython3",
   "version": "3.7.6"
  }
 },
 "nbformat": 4,
 "nbformat_minor": 4
}
