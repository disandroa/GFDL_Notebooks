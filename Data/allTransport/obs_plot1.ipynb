{
 "cells": [
  {
   "cell_type": "markdown",
   "metadata": {},
   "source": [
    "# Plotting Timeseries from Observational Data\n",
    "*Akira Di Sandro, 6/23/20*\n",
    "<br>\n",
    "In this notebook, I will be plotting time series of transport from Marion's mooring data."
   ]
  },
  {
   "cell_type": "markdown",
   "metadata": {},
   "source": [
    "## 1.  Import packages and Load in data"
   ]
  },
  {
   "cell_type": "code",
   "execution_count": 1,
   "metadata": {},
   "outputs": [],
   "source": [
    "import numpy as np\n",
    "import pandas as pd\n",
    "import datetime as dt\n",
    "import matplotlib.pyplot as plt"
   ]
  },
  {
   "cell_type": "code",
   "execution_count": 3,
   "metadata": {},
   "outputs": [],
   "source": [
    "#!python\n",
    "#!/usr/bin/env python\n",
    "from scipy.io import loadmat\n",
    "x = loadmat('../allTransport_SolomonStrait.mat')\n",
    "# one-liner to read a single variable\n",
    "#lon = loadmat('test.mat')['lon']"
   ]
  },
  {
   "cell_type": "code",
   "execution_count": 6,
   "metadata": {},
   "outputs": [
    {
     "data": {
      "text/plain": [
       "'1.0'"
      ]
     },
     "execution_count": 6,
     "metadata": {},
     "output_type": "execute_result"
    }
   ],
   "source": []
  },
  {
   "cell_type": "code",
   "execution_count": 7,
   "metadata": {},
   "outputs": [
    {
     "data": {
      "text/plain": [
       "array([ 1.80407090e+01,  1.81200560e+01,  1.79149677e+01,  1.73007656e+01,\n",
       "        1.62556215e+01,  1.49099874e+01,  1.35395321e+01,  1.24552205e+01,\n",
       "        1.18225723e+01,  1.15632586e+01,  1.14634090e+01,  1.13816049e+01,\n",
       "        1.13363625e+01,  1.14116285e+01,  1.16495084e+01,  1.20699507e+01,\n",
       "        1.27416253e+01,  1.37472388e+01,  1.50493228e+01,  1.64149583e+01,\n",
       "        1.75061695e+01,  1.80614174e+01,  1.80156024e+01,  1.74761095e+01,\n",
       "        1.66074002e+01,  1.55333345e+01,  1.43259859e+01,  1.30420693e+01,\n",
       "        1.17367186e+01,  1.04382515e+01,  9.15006185e+00,  7.91362577e+00,\n",
       "        6.86516520e+00,  6.17246202e+00,  5.86167637e+00,  5.69248069e+00,\n",
       "        5.25874176e+00,  4.29552921e+00,  2.95162468e+00,  1.76591552e+00,\n",
       "        1.33759825e+00,  1.95124720e+00,  3.43563702e+00,  5.29953774e+00,\n",
       "        6.98823635e+00,  8.09926831e+00,  8.49601092e+00,  8.30397731e+00,\n",
       "        7.79889456e+00,  7.25517081e+00,  6.85317338e+00,  6.67065077e+00,\n",
       "        6.69996852e+00,  6.85591944e+00,  7.00767744e+00,  7.03884051e+00,\n",
       "        6.87235197e+00,  6.43714555e+00,  5.66748909e+00,  4.61516292e+00,\n",
       "        3.58445879e+00,  3.09324891e+00,  3.60371289e+00,  5.19917769e+00,\n",
       "        7.46722821e+00,  9.69743986e+00,  1.12706274e+01,  1.19879053e+01,\n",
       "        1.21302556e+01,  1.22143372e+01,  1.26228241e+01,  1.33743970e+01,\n",
       "        1.41682726e+01,  1.46335623e+01,  1.45858791e+01,  1.41334532e+01,\n",
       "        1.35832216e+01,  1.32207781e+01,  1.31169645e+01,  1.31210263e+01,\n",
       "        1.30308204e+01,  1.27750813e+01,  1.24550142e+01,  1.22716971e+01,\n",
       "        1.24330436e+01,  1.30663412e+01,  1.41137095e+01,  1.52933081e+01,\n",
       "        1.62237384e+01,  1.66503581e+01,  1.65632975e+01,  1.61265722e+01,\n",
       "        1.55418218e+01,  1.49792261e+01,  1.45229455e+01,  1.40651748e+01,\n",
       "        1.32683182e+01,  1.17816771e+01,  9.61769978e+00,  7.31399981e+00,\n",
       "        5.62802884e+00,  4.99254469e+00,  5.22645687e+00,  5.74944299e+00,\n",
       "        6.05943699e+00,  6.03800889e+00,  5.87992114e+00,  5.81484550e+00,\n",
       "        5.90407056e+00,  6.04408031e+00,  6.09672877e+00,  6.00454590e+00,\n",
       "        5.81817293e+00,  5.65616919e+00,  5.64001114e+00,  5.84332639e+00,\n",
       "        6.27989962e+00,  6.92283265e+00,  7.72640954e+00,  8.63067760e+00,\n",
       "        9.56907785e+00,  1.05099391e+01,  1.15038711e+01,  1.26448648e+01,\n",
       "        1.39339133e+01,  1.51705852e+01,  1.60351670e+01,  1.63181232e+01,\n",
       "        1.60545672e+01,  1.53993196e+01,  1.44161776e+01,  1.30882619e+01,\n",
       "        1.15793512e+01,  1.03874872e+01,  1.01122713e+01,  1.10132925e+01,\n",
       "        1.28116126e+01,  1.49034473e+01,  1.67195586e+01,  1.79004212e+01,\n",
       "        1.82769512e+01,  1.78412783e+01,  1.67698568e+01,  1.53888954e+01,\n",
       "        1.40231487e+01,  1.28347024e+01,  1.17969449e+01,  1.08194774e+01,\n",
       "        9.89919311e+00,  9.16596788e+00,  8.78194906e+00,  8.78135126e+00,\n",
       "        8.99632970e+00,  9.14495215e+00,  9.00448441e+00,  8.52419058e+00,\n",
       "        7.79371888e+00,  6.92128421e+00,  5.94355633e+00,  4.83493528e+00,\n",
       "        3.58080666e+00,  2.23375815e+00,  9.05750533e-01, -2.80352933e-01,\n",
       "       -1.22957060e+00, -1.87678010e+00, -2.16561278e+00, -2.04230278e+00,\n",
       "       -1.49830602e+00, -6.46169271e-01,  2.52939117e-01,  8.94280053e-01,\n",
       "        1.12175137e+00,  1.03524792e+00,  8.89096338e-01,  8.62274632e-01,\n",
       "        9.13574700e-01,  8.46289332e-01,  5.01007380e-01, -1.08900004e-01,\n",
       "       -8.25412601e-01, -1.47358722e+00, -1.93927473e+00, -2.12634184e+00,\n",
       "       -1.88357503e+00, -1.03305804e+00,  4.99894046e-01,  2.59005958e+00,\n",
       "        4.93786127e+00,  7.17326217e+00,  8.94926329e+00,  1.00098540e+01,\n",
       "        1.02508963e+01,  9.75153242e+00,  8.72912774e+00,  7.43396330e+00,\n",
       "        6.06009067e+00,  4.74307383e+00,  3.63343084e+00,  2.94888073e+00,\n",
       "        2.90247712e+00,  3.51886350e+00,  4.50349597e+00,  5.34575177e+00,\n",
       "        5.63271958e+00,  5.31230198e+00,  4.64904612e+00,  3.91344554e+00,\n",
       "        3.11650856e+00,  2.04098845e+00,  4.98170042e-01, -1.46952082e+00,\n",
       "       -3.60605972e+00, -5.59465179e+00, -7.19830288e+00, -8.34061920e+00,\n",
       "       -9.13822505e+00, -9.85140963e+00, -1.07329333e+01, -1.18640575e+01,\n",
       "       -1.31095549e+01, -1.42043657e+01, -1.48694039e+01, -1.48934389e+01,\n",
       "       -1.42165557e+01, -1.30188689e+01, -1.17130639e+01, -1.07734829e+01,\n",
       "       -1.05056017e+01, -1.09416923e+01, -1.19178120e+01, -1.32201400e+01,\n",
       "       -1.46864644e+01, -1.62514401e+01, -1.79390104e+01, -1.97642302e+01,\n",
       "       -2.15751082e+01, -2.30072589e+01, -2.36791511e+01, -2.34906515e+01,\n",
       "       -2.27197046e+01, -2.18034087e+01, -2.10268912e+01, -2.04038419e+01,\n",
       "       -1.97787094e+01, -1.89772286e+01, -1.78840058e+01, -1.64723643e+01,\n",
       "       -1.48203364e+01, -1.30734166e+01, -1.13443233e+01, -9.64891776e+00,\n",
       "       -7.97147925e+00, -6.40456917e+00, -5.19002712e+00, -4.57524189e+00,\n",
       "       -4.59706397e+00, -4.99560712e+00, -5.34426618e+00, -5.28627648e+00,\n",
       "       -4.69415559e+00, -3.66912288e+00, -2.43474537e+00, -1.22480024e+00,\n",
       "       -2.17481993e-01,  4.83218649e-01,  8.22402864e-01,  7.48360174e-01,\n",
       "        2.08477251e-01, -7.69405071e-01, -1.96902420e+00, -2.98702730e+00,\n",
       "       -3.40852501e+00, -3.04299900e+00, -2.02774630e+00, -7.17101455e-01,\n",
       "        5.40678465e-01,  1.56712327e+00,  2.36153816e+00,  2.98584582e+00,\n",
       "        3.42919973e+00,  3.57447386e+00,  3.31667317e+00,  2.74056001e+00,\n",
       "        2.15709269e+00,  1.90668023e+00,  2.08038324e+00,  2.44064574e+00,\n",
       "        2.62424928e+00,  2.42575913e+00,  1.89899169e+00,  1.23641171e+00,\n",
       "        5.82518691e-01, -5.86577956e-02, -7.84422926e-01, -1.66819410e+00,\n",
       "       -2.63247561e+00, -3.41864127e+00, -3.71513953e+00, -3.38055967e+00,\n",
       "       -2.58693540e+00, -1.75140949e+00, -1.27937001e+00, -1.30562285e+00,\n",
       "       -1.61911554e+00, -1.82032032e+00, -1.58092581e+00, -8.18060665e-01,\n",
       "        3.27701774e-01,  1.64398178e+00,  2.98887100e+00,  4.32290927e+00,\n",
       "        5.64883250e+00,  6.93268901e+00,  8.08575915e+00,  9.02204914e+00,\n",
       "        9.74821507e+00,  1.03855363e+01,  1.10673572e+01,  1.17692824e+01,\n",
       "        1.22390809e+01,  1.21282837e+01,  1.12465739e+01,  9.71333049e+00,\n",
       "        7.87135649e+00,  6.05346476e+00,  4.42958863e+00,  3.04808733e+00,\n",
       "        1.96938595e+00,  1.30682372e+00,  1.13561767e+00,  1.39807750e+00,\n",
       "        1.93319323e+00,  2.60735023e+00,  3.40735169e+00,  4.40592068e+00,\n",
       "        5.64317369e+00,  7.04078665e+00,  8.42039408e+00,  9.58866766e+00,\n",
       "        1.04081298e+01,  1.08197654e+01,  1.08429349e+01,  1.05811878e+01,\n",
       "        1.02212147e+01,  9.98423069e+00,  1.00397940e+01,  1.04380347e+01,\n",
       "        1.11114435e+01,  1.19303718e+01,  1.27580843e+01,  1.34781633e+01,\n",
       "        1.40205334e+01,  1.43956545e+01,  1.46956899e+01,  1.50239404e+01,\n",
       "        1.53969942e+01,  1.57151164e+01,  1.58454993e+01,  1.57528685e+01,\n",
       "        1.55691028e+01,  1.55349646e+01,  1.58471327e+01,  1.65240862e+01,\n",
       "        1.73993792e+01,  1.82380716e+01,  1.88691388e+01,  1.92181568e+01,\n",
       "        1.92457199e+01,  1.88904278e+01,  1.80884271e+01,  1.68396891e+01,\n",
       "        1.52433977e+01,  1.34561887e+01,  1.16066376e+01,  9.73559392e+00,\n",
       "        7.79781952e+00,  5.70937273e+00,  3.41198541e+00,  9.21970509e-01,\n",
       "       -1.66892195e+00, -4.25653047e+00, -6.80278751e+00, -9.33707514e+00,\n",
       "       -1.18511792e+01, -1.41911442e+01, -1.60643462e+01, -1.71612388e+01,\n",
       "       -1.72831459e+01, -1.64185716e+01, -1.47824346e+01, -1.28063206e+01,\n",
       "       -1.10054208e+01, -9.73555840e+00, -9.01320629e+00, -8.57062502e+00,\n",
       "       -8.08946782e+00, -7.39222777e+00, -6.45782062e+00, -5.32979249e+00,\n",
       "       -4.04079481e+00, -2.59335989e+00, -9.84160135e-01,  7.28950680e-01,\n",
       "        2.35934263e+00,  3.62419237e+00,  4.31470014e+00,  4.47002376e+00,\n",
       "        4.37072674e+00,  4.33358097e+00,  4.49822189e+00,  4.79340512e+00,\n",
       "        5.08145082e+00,  5.31219155e+00,  5.54170499e+00,  5.82293180e+00,\n",
       "        6.10094183e+00,  6.21249238e+00,  5.97410820e+00,  5.28154689e+00,\n",
       "        4.17776925e+00,  2.87898061e+00,  1.73528175e+00,  1.10478295e+00,\n",
       "        1.19967121e+00,  2.01590158e+00,  3.39289455e+00,  5.14007240e+00,\n",
       "        7.13308974e+00,  9.32671070e+00,  1.16858914e+01,  1.40841720e+01,\n",
       "        1.62719597e+01,  1.79917832e+01,  1.91664602e+01,  1.99714831e+01,\n",
       "        2.07016810e+01,  2.15601236e+01,  2.25591141e+01,  2.35755682e+01,\n",
       "        2.44615559e+01,  2.51290093e+01,  2.55861848e+01,  2.59152325e+01,\n",
       "        2.61916444e+01,  2.64166510e+01,  2.65488233e+01,  2.66102796e+01,\n",
       "        2.67249965e+01,  2.70130448e+01,  2.74353317e+01,  2.77696124e+01,\n",
       "        2.77859354e+01,  2.74873575e+01,  2.71814079e+01,  2.72744814e+01,\n",
       "        2.79356135e+01,  2.89246291e+01,  2.97468648e+01,  2.99947375e+01,\n",
       "        2.95845656e+01,  2.87268248e+01,  2.77139610e+01,  2.67232295e+01,\n",
       "        2.57567643e+01,  2.47020018e+01,  2.34294447e+01,  2.18526762e+01,\n",
       "        1.99380902e+01,  1.77146039e+01,  1.53325828e+01,  1.31348825e+01,\n",
       "        1.16111348e+01,  1.11655274e+01,  1.18329071e+01,  1.31979857e+01,\n",
       "        1.46129304e+01,  1.55187757e+01,  1.56043961e+01,  1.47718737e+01,\n",
       "        1.30856416e+01,  1.07968478e+01,  8.31969235e+00,  6.05224377e+00,\n",
       "        4.17343692e+00,  2.64099784e+00,  1.39340476e+00,  5.10507346e-01,\n",
       "        1.42167433e-01,  3.07201950e-01,  8.11404251e-01,  1.37513798e+00,\n",
       "        1.81540290e+00,  2.09125163e+00,  2.20342713e+00,  2.10720861e+00,\n",
       "        1.76265014e+00,  1.26481570e+00,  8.65300728e-01,  7.93721494e-01,\n",
       "        1.01669978e+00,  1.19361695e+00,  9.34836296e-01,  1.59908439e-01,\n",
       "       -7.76608030e-01, -1.31255960e+00, -1.05037940e+00,  3.04983918e-02,\n",
       "        1.62201994e+00,  3.26132751e+00,  4.48587083e+00,  4.94727628e+00,\n",
       "        4.51746435e+00,  3.35064039e+00,  1.84249155e+00,  4.92275631e-01,\n",
       "       -2.56496749e-01, -1.44800913e-01,  8.24298979e-01,  2.37721189e+00,\n",
       "        4.05427389e+00,  5.35908812e+00,  5.90522157e+00,  5.50312588e+00,\n",
       "        4.18493634e+00,  2.18708835e+00, -1.01916708e-01, -2.23536039e+00,\n",
       "       -3.83667973e+00, -4.72475658e+00, -4.96759296e+00, -4.82476036e+00,\n",
       "       -4.60689053e+00, -4.52883376e+00, -4.62321755e+00, -4.73863030e+00,\n",
       "       -4.62281475e+00, -4.06729984e+00, -3.03042944e+00, -1.65244044e+00,\n",
       "       -1.70728073e-01,  1.16179232e+00,  2.09488228e+00,  2.39782441e+00,\n",
       "        1.95315861e+00,  8.79499468e-01, -4.52577837e-01, -1.57327464e+00,\n",
       "       -2.13097386e+00, -2.02259642e+00, -1.37152616e+00, -4.13660349e-01,\n",
       "        6.01771969e-01,  1.44156686e+00,  1.89222705e+00,  1.81393440e+00,\n",
       "        1.25142313e+00,  4.83220695e-01, -1.06542379e-01, -2.84322411e-01,\n",
       "       -1.40359802e-01, -2.71532465e-02, -3.23108246e-01, -1.20828343e+00,\n",
       "       -2.58196279e+00, -4.13671501e+00, -5.53180391e+00, -6.56263050e+00,\n",
       "       -7.20970794e+00, -7.55750080e+00, -7.71210154e+00, -7.81362337e+00,\n",
       "       -8.05613030e+00, -8.58213234e+00, -9.31354586e+00, -9.93762842e+00,\n",
       "       -1.01152492e+01, -9.71990313e+00, -8.88562675e+00, -7.85781694e+00,\n",
       "       -6.81126453e+00, -5.77407368e+00, -4.67279166e+00, -3.44160524e+00,\n",
       "       -2.11681478e+00, -8.51338392e-01,  1.45701820e-01,  6.79193382e-01,\n",
       "        5.98092194e-01, -1.73265792e-01])"
      ]
     },
     "execution_count": 7,
     "metadata": {},
     "output_type": "execute_result"
    }
   ],
   "source": [
    "x['T'][42]"
   ]
  },
  {
   "cell_type": "markdown",
   "metadata": {},
   "source": [
    "## 2. Convert time stamps into legible and usable ones"
   ]
  },
  {
   "cell_type": "markdown",
   "metadata": {},
   "source": [
    "### a. Legible to humans"
   ]
  },
  {
   "cell_type": "code",
   "execution_count": 27,
   "metadata": {},
   "outputs": [],
   "source": [
    "datenums = x['time'][0]\n",
    "# this line below reads matlab datenums and returns datetime in human legible format\n",
    "timestamps = pd.to_datetime(datenums-719529, unit='D')"
   ]
  },
  {
   "cell_type": "code",
   "execution_count": 28,
   "metadata": {
    "scrolled": true
   },
   "outputs": [
    {
     "data": {
      "text/plain": [
       "DatetimeIndex(['2012-07-23', '2012-07-24', '2012-07-25', '2012-07-26',\n",
       "               '2012-07-27', '2012-07-28', '2012-07-29', '2012-07-30',\n",
       "               '2012-07-31', '2012-08-01',\n",
       "               ...\n",
       "               '2014-02-23', '2014-02-24', '2014-02-25', '2014-02-26',\n",
       "               '2014-02-27', '2014-02-28', '2014-03-01', '2014-03-02',\n",
       "               '2014-03-03', '2014-03-04'],\n",
       "              dtype='datetime64[ns]', length=590, freq=None)"
      ]
     },
     "execution_count": 28,
     "metadata": {},
     "output_type": "execute_result"
    }
   ],
   "source": [
    "timestamps"
   ]
  },
  {
   "cell_type": "markdown",
   "metadata": {},
   "source": [
    "### b. Timestamps in vector format for python"
   ]
  },
  {
   "cell_type": "code",
   "execution_count": 29,
   "metadata": {},
   "outputs": [],
   "source": [
    "# this code reads matlab datenums and returns it in a datetime vector. \n",
    "def matlab2datetime(matlab_datenum):\n",
    "    day = dt.datetime.fromordinal(int(matlab_datenum))\n",
    "    dayfrac = dt.timedelta(days=matlab_datenum%1) - dt.timedelta(days = 366)\n",
    "    return day + dayfrac"
   ]
  },
  {
   "cell_type": "code",
   "execution_count": 39,
   "metadata": {},
   "outputs": [],
   "source": [
    "py_dt = []\n",
    "\n",
    "for time in datenums:\n",
    "    py_dt = np.concatenate([py_dt, [matlab2datetime(int(time))]])\n",
    "#py_dt"
   ]
  },
  {
   "cell_type": "markdown",
   "metadata": {},
   "source": [
    "## 3. Plot Transport timeseries"
   ]
  },
  {
   "cell_type": "code",
   "execution_count": 49,
   "metadata": {},
   "outputs": [],
   "source": [
    "trans1 = x['T'][0]"
   ]
  },
  {
   "cell_type": "code",
   "execution_count": 52,
   "metadata": {},
   "outputs": [
    {
     "data": {
      "text/plain": [
       "True"
      ]
     },
     "execution_count": 52,
     "metadata": {},
     "output_type": "execute_result"
    }
   ],
   "source": [
    "len(trans1) == len(timestamps) == len(py_dt)"
   ]
  },
  {
   "cell_type": "code",
   "execution_count": 76,
   "metadata": {
    "scrolled": true
   },
   "outputs": [
    {
     "data": {
      "image/png": "[encoded data removed]",
      "text/plain": [
       "<Figure size 1008x576 with 1 Axes>"
      ]
     },
     "metadata": {
      "needs_background": "light"
     },
     "output_type": "display_data"
    }
   ],
   "source": [
    "fig, ax = plt.subplots(figsize=(14,8))\n",
    "ax.set_ylabel('Transport (Sv)')\n",
    "ax.set_xlabel('Time')\n",
    "ax.plot(py_dt, trans1)\n",
    "ax.set_xlim(py_dt[0], py_dt[-1])\n",
    "ax.grid(True)\n",
    "trans1_plot = plt.show()"
   ]
  },
  {
   "cell_type": "markdown",
   "metadata": {},
   "source": [
    "The above plot used 'SolomonStrait_geoBotRef_linearXsection_linear2bot_gcur4surf.mat'."
   ]
  },
  {
   "cell_type": "code",
   "execution_count": null,
   "metadata": {},
   "outputs": [],
   "source": []
  }
 ],
 "metadata": {
  "kernelspec": {
   "display_name": "Python 3",
   "language": "python",
   "name": "python3"
  },
  "language_info": {
   "codemirror_mode": {
    "name": "ipython",
    "version": 3
   },
   "file_extension": ".py",
   "mimetype": "text/x-python",
   "name": "python",
   "nbconvert_exporter": "python",
   "pygments_lexer": "ipython3",
   "version": "3.7.6"
  }
 },
 "nbformat": 4,
 "nbformat_minor": 4
}
